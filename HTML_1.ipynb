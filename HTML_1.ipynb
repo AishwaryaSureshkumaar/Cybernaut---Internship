{
  "nbformat": 4,
  "nbformat_minor": 0,
  "metadata": {
    "colab": {
      "provenance": [],
      "authorship_tag": "ABX9TyM1J7HllxaKYbbfiZylCYR9",
      "include_colab_link": true
    },
    "kernelspec": {
      "name": "python3",
      "display_name": "Python 3"
    },
    "language_info": {
      "name": "python"
    }
  },
  "cells": [
    {
      "cell_type": "markdown",
      "metadata": {
        "id": "view-in-github",
        "colab_type": "text"
      },
      "source": [
        "<a href=\"https://colab.research.google.com/github/AishwaryaSureshkumaar/Cybernaut---Internship/blob/main/HTML_1.ipynb\" target=\"_parent\"><img src=\"https://colab.research.google.com/assets/colab-badge.svg\" alt=\"Open In Colab\"/></a>"
      ]
    },
    {
      "cell_type": "markdown",
      "source": [
        "16/12/2024\n",
        "\n",
        "# **1.HTML**\n",
        "\n",
        "### Day-1:\n"
      ],
      "metadata": {
        "id": "01b0m1EaS5mq"
      }
    },
    {
      "cell_type": "markdown",
      "source": [
        "**INTRODUCTION:**\n",
        "\n",
        "\n",
        "         * HTML stands for HyperText Markup Language.\n",
        "         * It is the standard markup language used to create web pages.\n",
        "         * HTML describes the structure of a web page using elements\n",
        "\n",
        "\n"
      ],
      "metadata": {
        "id": "7gEuVdkbTb0C"
      }
    },
    {
      "cell_type": "code",
      "execution_count": null,
      "metadata": {
        "colab": {
          "base_uri": "https://localhost:8080/",
          "height": 100
        },
        "id": "RP08xy-3PnrG",
        "outputId": "3361897e-dec9-4acb-eddd-111ea69e8584"
      },
      "outputs": [
        {
          "output_type": "display_data",
          "data": {
            "text/plain": [
              "<IPython.core.display.HTML object>"
            ],
            "text/html": [
              "\n",
              "<!DOCTYPE html>\n",
              "<html>\n",
              "<body>\n",
              "    <h1>Aishwarya</h1>\n",
              "    <p>Web Developer Intern.</p>\n",
              "</body>\n",
              "</html>\n"
            ]
          },
          "metadata": {}
        }
      ],
      "source": [
        "from IPython.core.display import HTML, display\n",
        "\n",
        "# Example: Displaying HTML content\n",
        "display(HTML(\"\"\"\n",
        "<!DOCTYPE html>\n",
        "<html>\n",
        "<body>\n",
        "    <h1>Aishwarya</h1>\n",
        "    <p>Developer Intern.</p>\n",
        "</body>\n",
        "</html>\n",
        "\"\"\"))\n"
      ]
    },
    {
      "cell_type": "markdown",
      "source": [
        "=>  **HEADINGS & PARAGRAPHS:**"
      ],
      "metadata": {
        "id": "vUgA9syMS4E5"
      }
    },
    {
      "cell_type": "code",
      "source": [
        "from IPython.core.display import HTML\n",
        "\n",
        "html_code = \"\"\"\n",
        "<!DOCTYPE html>\n",
        "<html>\n",
        "  <body>\n",
        "    <h1>Heading 1</h1>\n",
        "    <h2>Heading 2</h2>\n",
        "    <h3>Heading 3</h3>\n",
        "    <h4>Heading 4</h4>\n",
        "    <h5>Heading 5</h5>\n",
        "    <h6>Heading 6</h6>\n",
        "    <p>This is a paragraph.</p>\n",
        "    <p>This is another paragraph.</p>\n",
        "  </body>\n",
        "</html>\n",
        "\"\"\"\n",
        "display(HTML(html_code))\n"
      ],
      "metadata": {
        "colab": {
          "base_uri": "https://localhost:8080/",
          "height": 307
        },
        "id": "7xcBIhZBfMPF",
        "outputId": "a2d3b39a-b507-4302-b21c-f75801e4dc47"
      },
      "execution_count": null,
      "outputs": [
        {
          "output_type": "display_data",
          "data": {
            "text/plain": [
              "<IPython.core.display.HTML object>"
            ],
            "text/html": [
              "\n",
              "<!DOCTYPE html>\n",
              "<html>\n",
              "  <body>\n",
              "    <h1>Heading 1</h1>\n",
              "    <h2>Heading 2</h2>\n",
              "    <h3>Heading 3</h3>\n",
              "    <h4>Heading 4</h4>\n",
              "    <h5>Heading 5</h5>\n",
              "    <h6>Heading 6</h6>\n",
              "    <p>This is a paragraph.</p>\n",
              "    <p>This is another paragraph.</p>\n",
              "  </body>\n",
              "</html>\n"
            ]
          },
          "metadata": {}
        }
      ]
    },
    {
      "cell_type": "markdown",
      "source": [
        "=>  **FORMATTING TEXT:**"
      ],
      "metadata": {
        "id": "erqtj4MtgpKg"
      }
    },
    {
      "cell_type": "code",
      "source": [
        "from IPython.core.display import HTML\n",
        "\n",
        "html_code = \"\"\"\n",
        "<!DOCTYPE html>\n",
        "<html>\n",
        "  <body>\n",
        "    <b>This text is bold</b><br>\n",
        "    <i>This text is italic</i><br>\n",
        "    <u>This text is underlined</u><br>\n",
        "    <small>This text is small</small><br>\n",
        "    <strong>This text is strong</strong><br>\n",
        "    <em>This text is emphasized</em><br>\n",
        "    <mark>This text is highlighted</mark>\n",
        "  </body>\n",
        "</html>\n",
        "\"\"\"\n",
        "display(HTML(html_code))\n"
      ],
      "metadata": {
        "colab": {
          "base_uri": "https://localhost:8080/",
          "height": 138
        },
        "id": "g8Pa4EBog5Fg",
        "outputId": "d75294b2-70e2-4e6e-ba1c-9ce40b0f819c"
      },
      "execution_count": null,
      "outputs": [
        {
          "output_type": "display_data",
          "data": {
            "text/plain": [
              "<IPython.core.display.HTML object>"
            ],
            "text/html": [
              "\n",
              "<!DOCTYPE html>\n",
              "<html>\n",
              "  <body>\n",
              "    <b>This text is bold</b><br>\n",
              "    <i>This text is italic</i><br>\n",
              "    <u>This text is underlined</u><br>\n",
              "    <small>This text is small</small><br>\n",
              "    <strong>This text is strong</strong><br>\n",
              "    <em>This text is emphasized</em><br>\n",
              "    <mark>This text is highlighted</mark>\n",
              "  </body>\n",
              "</html>\n"
            ]
          },
          "metadata": {}
        }
      ]
    },
    {
      "cell_type": "markdown",
      "source": [
        "=>  **LINKS [HYPERLINKS]:**"
      ],
      "metadata": {
        "id": "ctv0d90zhTAW"
      }
    },
    {
      "cell_type": "code",
      "source": [
        "from IPython.core.display import HTML\n",
        "\n",
        "html_code = \"\"\"\n",
        "<!DOCTYPE html>\n",
        "<html>\n",
        "  <body>\n",
        "    <h2>Aishwarya Sureshkumaar Github</h2>\n",
        "    <p>Click the link below:</p>\n",
        "    <a href=\"https://github.com/AishwaryaSureshkumaar/Cybernaut---Internship\" target=\"_blank\">Visit Git Repository</a>\n",
        "  </body>\n",
        "</html>\n",
        "\"\"\"\n",
        "display(HTML(html_code))\n"
      ],
      "metadata": {
        "colab": {
          "base_uri": "https://localhost:8080/",
          "height": 107
        },
        "id": "MaKGZQqMh4jv",
        "outputId": "0b8d29b3-acee-47cc-e3f9-902cf509a629"
      },
      "execution_count": null,
      "outputs": [
        {
          "output_type": "display_data",
          "data": {
            "text/plain": [
              "<IPython.core.display.HTML object>"
            ],
            "text/html": [
              "\n",
              "<!DOCTYPE html>\n",
              "<html>\n",
              "  <body>\n",
              "    <h2>Aishwarya Sureshkumaar Github</h2>\n",
              "    <p>Click the link below:</p>\n",
              "    <a href=\"https://github.com/AishwaryaSureshkumaar/Cybernaut---Internship\" target=\"_blank\">Visit Git Repository</a>\n",
              "  </body>\n",
              "</html>\n"
            ]
          },
          "metadata": {}
        }
      ]
    },
    {
      "cell_type": "markdown",
      "source": [
        "=>  **IMAGES:**"
      ],
      "metadata": {
        "id": "F4aw0Bb4i39Q"
      }
    },
    {
      "cell_type": "code",
      "source": [
        "from IPython.core.display import HTML\n",
        "\n",
        "html_code = \"\"\"\n",
        "<!DOCTYPE html>\n",
        "<html>\n",
        "    <img src=\"data:image/png;base64,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\" alt=\"Italian House\" width=\"300\" style=\"display: block; margin: 0 auto;\">\n",
        "  </body>\n",
        "</html>\n",
        "\"\"\"\n",
        "display(HTML(html_code))\n"
      ],
      "metadata": {
        "colab": {
          "base_uri": "https://localhost:8080/",
          "height": 92
        },
        "id": "FOgPZjKTixqL",
        "outputId": "bbe047b1-daa0-4ca5-d4e7-0277cd33d5fc"
      },
      "execution_count": null,
      "outputs": [
        {
          "output_type": "display_data",
          "data": {
            "text/plain": [
              "<IPython.core.display.HTML object>"
            ],
            "text/html": [
              "\n",
              "<!DOCTYPE html>\n",
              "<html>\n",
              "    <img src=\"data:image/png;base64,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\" alt=\"Italian House\" width=\"300\" style=\"display: block; margin: 0 auto;\">\n",
              "  </body>\n",
              "</html>\n"
            ]
          },
          "metadata": {}
        }
      ]
    },
    {
      "cell_type": "markdown",
      "source": [
        "=>  **LISTS:**"
      ],
      "metadata": {
        "id": "klpG7hNCsUWB"
      }
    },
    {
      "cell_type": "code",
      "source": [
        "from IPython.core.display import HTML\n",
        "\n",
        "html_code = \"\"\"\n",
        "<!DOCTYPE html>\n",
        "<html>\n",
        "  <body>\n",
        "    <h3>Unordered List</h3>\n",
        "    <ul>\n",
        "      <li>MongoDB</li>\n",
        "      <li>Express.JS</li>\n",
        "      <li>React.JS</li>\n",
        "    </ul>\n",
        "    <h3>Ordered List</h3>\n",
        "    <ol>\n",
        "      <li>Node.JS</li>\n",
        "      <li>Next.JS</li>\n",
        "      <li>Angular.JS</li>\n",
        "    </ol>\n",
        "  </body>\n",
        "</html>\n",
        "\"\"\"\n",
        "display(HTML(html_code))\n"
      ],
      "metadata": {
        "colab": {
          "base_uri": "https://localhost:8080/",
          "height": 228
        },
        "id": "bOArVJ0bxfT3",
        "outputId": "188309a9-6b10-49ed-dece-658b948ae743"
      },
      "execution_count": null,
      "outputs": [
        {
          "output_type": "display_data",
          "data": {
            "text/plain": [
              "<IPython.core.display.HTML object>"
            ],
            "text/html": [
              "\n",
              "<!DOCTYPE html>\n",
              "<html>\n",
              "  <body>\n",
              "    <h3>Unordered List</h3>\n",
              "    <ul>\n",
              "      <li>MongoDB</li>\n",
              "      <li>Express.JS</li>\n",
              "      <li>React.JS</li>\n",
              "    </ul>\n",
              "    <h3>Ordered List</h3>\n",
              "    <ol>\n",
              "      <li>Node.JS</li>\n",
              "      <li>Next.JS</li>\n",
              "      <li>Angular.JS</li>\n",
              "    </ol>\n",
              "  </body>\n",
              "</html>\n"
            ]
          },
          "metadata": {}
        }
      ]
    },
    {
      "cell_type": "markdown",
      "source": [
        "=> **TABLES:**"
      ],
      "metadata": {
        "id": "KI5ql1cLyk9G"
      }
    },
    {
      "cell_type": "code",
      "source": [
        "from IPython.core.display import HTML\n",
        "\n",
        "html_code = \"\"\"\n",
        "<!DOCTYPE html>\n",
        "<html>\n",
        "  <body style=\"text-align: center;\">\n",
        "    <h3>Hogwarts Houses</h3>\n",
        "    <table style=\"border: 1px solid black; border-collapse: collapse; width: 50%; margin: 0 auto;\">\n",
        "      <tr style=\"background-color: #96D4D4;\">\n",
        "        <th>House</th>\n",
        "        <th>Founder</th>\n",
        "        <th>Color</th>\n",
        "      </tr>\n",
        "      <tr style=\"background-color: #e0f7fa;\">\n",
        "        <td>Gryffindor</td>\n",
        "        <td>Godric Gryffindor</td>\n",
        "        <td>Scarlet and Gold</td>\n",
        "      </tr>\n",
        "      <tr style=\"background-color: #e0f7fa;\">\n",
        "        <td>Slytherin</td>\n",
        "        <td>Salazar Slytherin</td>\n",
        "        <td>Green and Silver</td>\n",
        "      </tr>\n",
        "      <tr style=\"background-color: #e0f7fa;\">\n",
        "        <td>Ravenclaw</td>\n",
        "        <td>Rowena Ravenclaw</td>\n",
        "        <td>Blue and Bronze</td>\n",
        "      </tr>\n",
        "      <tr style=\"background-color: #e0f7fa;\">\n",
        "        <td>Hufflepuff</td>\n",
        "        <td>Helga Hufflepuff</td>\n",
        "        <td>Yellow and Black</td>\n",
        "      </tr>\n",
        "    </table>\n",
        "  </body>\n",
        "</html>\n",
        "\"\"\"\n",
        "display(HTML(html_code))\n"
      ],
      "metadata": {
        "colab": {
          "base_uri": "https://localhost:8080/",
          "height": 156
        },
        "id": "i0B42w1My1Py",
        "outputId": "29ebb283-364b-4b85-dfce-0de7db15cb5d"
      },
      "execution_count": null,
      "outputs": [
        {
          "output_type": "display_data",
          "data": {
            "text/plain": [
              "<IPython.core.display.HTML object>"
            ],
            "text/html": [
              "\n",
              "<!DOCTYPE html>\n",
              "<html>\n",
              "  <body style=\"text-align: center;\">\n",
              "    <h3>Hogwarts Houses</h3>\n",
              "    <table style=\"border: 1px solid black; border-collapse: collapse; width: 50%; margin: 0 auto;\">\n",
              "      <tr style=\"background-color: #96D4D4;\">\n",
              "        <th>House</th>\n",
              "        <th>Founder</th>\n",
              "        <th>Color</th>\n",
              "      </tr>\n",
              "      <tr style=\"background-color: #e0f7fa;\">\n",
              "        <td>Gryffindor</td>\n",
              "        <td>Godric Gryffindor</td>\n",
              "        <td>Scarlet and Gold</td>\n",
              "      </tr>\n",
              "      <tr style=\"background-color: #e0f7fa;\">\n",
              "        <td>Slytherin</td>\n",
              "        <td>Salazar Slytherin</td>\n",
              "        <td>Green and Silver</td>\n",
              "      </tr>\n",
              "      <tr style=\"background-color: #e0f7fa;\">\n",
              "        <td>Ravenclaw</td>\n",
              "        <td>Rowena Ravenclaw</td>\n",
              "        <td>Blue and Bronze</td>\n",
              "      </tr>\n",
              "      <tr style=\"background-color: #e0f7fa;\">\n",
              "        <td>Hufflepuff</td>\n",
              "        <td>Helga Hufflepuff</td>\n",
              "        <td>Yellow and Black</td>\n",
              "      </tr>\n",
              "    </table>\n",
              "  </body>\n",
              "</html>\n"
            ]
          },
          "metadata": {}
        }
      ]
    },
    {
      "cell_type": "markdown",
      "source": [
        "=>  **FORMS:**\n"
      ],
      "metadata": {
        "id": "SjbSkkrLrdYF"
      }
    },
    {
      "cell_type": "code",
      "source": [
        "from IPython.core.display import HTML\n",
        "\n",
        "html_code = \"\"\"\n",
        "<!DOCTYPE html>\n",
        "<html>\n",
        "  <body>\n",
        "    <h3>HTML Form</h3>\n",
        "    <form>\n",
        "      <label for=\"fname\">First Name:</label>\n",
        "      <input type=\"text\" id=\"fname\" name=\"fname\"><br><br>\n",
        "      <label for=\"lname\">Last Name:</label>\n",
        "      <input type=\"text\" id=\"lname\" name=\"lname\"><br><br>\n",
        "      <input type=\"submit\" value=\"Submit\">\n",
        "    </form>\n",
        "  </body>\n",
        "</html>\n",
        "\"\"\"\n",
        "display(HTML(html_code))\n"
      ],
      "metadata": {
        "colab": {
          "base_uri": "https://localhost:8080/",
          "height": 151
        },
        "id": "-zqQ03cHr2-F",
        "outputId": "fa875e50-5803-4f4a-99cd-160ab2ce32e0"
      },
      "execution_count": null,
      "outputs": [
        {
          "output_type": "display_data",
          "data": {
            "text/plain": [
              "<IPython.core.display.HTML object>"
            ],
            "text/html": [
              "\n",
              "<!DOCTYPE html>\n",
              "<html>\n",
              "  <body>\n",
              "    <h3>HTML Form</h3>\n",
              "    <form>\n",
              "      <label for=\"fname\">First Name:</label>\n",
              "      <input type=\"text\" id=\"fname\" name=\"fname\"><br><br>\n",
              "      <label for=\"lname\">Last Name:</label>\n",
              "      <input type=\"text\" id=\"lname\" name=\"lname\"><br><br>\n",
              "      <input type=\"submit\" value=\"Submit\">\n",
              "    </form>\n",
              "  </body>\n",
              "</html>\n"
            ]
          },
          "metadata": {}
        }
      ]
    },
    {
      "cell_type": "markdown",
      "source": [
        "=>  **Div and Span:**"
      ],
      "metadata": {
        "id": "N_fC3JaQtIan"
      }
    },
    {
      "cell_type": "code",
      "source": [
        "from IPython.core.display import HTML\n",
        "\n",
        "html_code = \"\"\"\n",
        "<!DOCTYPE html>\n",
        "<html>\n",
        "  <body>\n",
        "    <div style=\"border:1px solid black; padding:10px;\">\n",
        "      <h3>This is a Div</h3>\n",
        "      <p>Div is a block-level element.</p>\n",
        "    </div>\n",
        "    <p>This is a <span style=\"color:blue;\">Span</span> example.</p>\n",
        "  </body>\n",
        "</html>\n",
        "\"\"\"\n",
        "display(HTML(html_code))\n"
      ],
      "metadata": {
        "colab": {
          "base_uri": "https://localhost:8080/",
          "height": 134
        },
        "id": "ta26D2sktMJ9",
        "outputId": "d48b7480-a817-4ad2-f801-2f350b23dcf0"
      },
      "execution_count": null,
      "outputs": [
        {
          "output_type": "display_data",
          "data": {
            "text/plain": [
              "<IPython.core.display.HTML object>"
            ],
            "text/html": [
              "\n",
              "<!DOCTYPE html>\n",
              "<html>\n",
              "  <body>\n",
              "    <div style=\"border:1px solid black; padding:10px;\">\n",
              "      <h3>This is a Div</h3>\n",
              "      <p>Div is a block-level element.</p>\n",
              "    </div>\n",
              "    <p>This is a <span style=\"color:blue;\">Span</span> example.</p>\n",
              "  </body>\n",
              "</html>\n"
            ]
          },
          "metadata": {}
        }
      ]
    },
    {
      "cell_type": "markdown",
      "source": [
        "=>  **INLINE CSS:**"
      ],
      "metadata": {
        "id": "J2BClab6tRac"
      }
    },
    {
      "cell_type": "code",
      "source": [
        "from IPython.core.display import HTML\n",
        "\n",
        "html_code = \"\"\"\n",
        "<!DOCTYPE html>\n",
        "<html>\n",
        "  <body>\n",
        "    <h1 style=\"color:red; text-align:center;\">Inline CSS Example</h1>\n",
        "    <p style=\"font-size:20px;\">This paragraph has a larger font size.</p>\n",
        "  </body>\n",
        "</html>\n",
        "\"\"\"\n",
        "display(HTML(html_code))\n"
      ],
      "metadata": {
        "colab": {
          "base_uri": "https://localhost:8080/",
          "height": 107
        },
        "id": "-pi2NGhAtUeM",
        "outputId": "2b7f83f0-2de5-4bdc-bc50-1c64decd1f95"
      },
      "execution_count": null,
      "outputs": [
        {
          "output_type": "display_data",
          "data": {
            "text/plain": [
              "<IPython.core.display.HTML object>"
            ],
            "text/html": [
              "\n",
              "<!DOCTYPE html>\n",
              "<html>\n",
              "  <body>\n",
              "    <h1 style=\"color:red; text-align:center;\">Inline CSS Example</h1>\n",
              "    <p style=\"font-size:20px;\">This paragraph has a larger font size.</p>\n",
              "  </body>\n",
              "</html>\n"
            ]
          },
          "metadata": {}
        }
      ]
    },
    {
      "cell_type": "markdown",
      "source": [
        "=>  **EMBED YOUTUBE VIDEO:**"
      ],
      "metadata": {
        "id": "nD3yTUSZteBa"
      }
    },
    {
      "cell_type": "code",
      "source": [
        "from IPython.core.display import HTML\n",
        "\n",
        "html_code = \"\"\"\n",
        "<!DOCTYPE html>\n",
        "<html>\n",
        "  <body>\n",
        "    <h3>Embedded YouTube Video</h3>\n",
        "    <iframe width=\"560\" height=\"315\" src=\"https://youtu.be/qz0aGYrrlhU?si=EKZeaMtFw6a4mtKG\"\n",
        "    frameborder=\"0\" allow=\"accelerometer; autoplay; clipboard-write; encrypted-media; gyroscope; picture-in-picture\"\n",
        "    allowfullscreen></iframe>\n",
        "  </body>\n",
        "</html>\n",
        "\"\"\"\n",
        "display(HTML(html_code))\n"
      ],
      "metadata": {
        "colab": {
          "base_uri": "https://localhost:8080/",
          "height": 377
        },
        "id": "zGmbO2jTtdVb",
        "outputId": "37b64576-1703-4bf4-d8c4-b0815541ea74"
      },
      "execution_count": null,
      "outputs": [
        {
          "output_type": "display_data",
          "data": {
            "text/plain": [
              "<IPython.core.display.HTML object>"
            ],
            "text/html": [
              "\n",
              "<!DOCTYPE html>\n",
              "<html>\n",
              "  <body>\n",
              "    <h3>Embedded YouTube Video</h3>\n",
              "    <iframe width=\"560\" height=\"315\" src=\"https://www.youtube.com/embed/dQw4w9WgXcQ\" \n",
              "    frameborder=\"0\" allow=\"accelerometer; autoplay; clipboard-write; encrypted-media; gyroscope; picture-in-picture\" \n",
              "    allowfullscreen></iframe>\n",
              "  </body>\n",
              "</html>\n"
            ]
          },
          "metadata": {}
        }
      ]
    },
    {
      "cell_type": "markdown",
      "source": [
        "=>  **HTML Buttons**"
      ],
      "metadata": {
        "id": "-_Eegpvpt8Jv"
      }
    },
    {
      "cell_type": "code",
      "source": [
        "from IPython.core.display import HTML\n",
        "\n",
        "html_code = \"\"\"\n",
        "<!DOCTYPE html>\n",
        "<html>\n",
        "  <body>\n",
        "    <h3>HTML Button</h3>\n",
        "    <button type=\"button\" onclick=\"alert('Hello! This is a button.')\">Click Me!</button>\n",
        "  </body>\n",
        "</html>\n",
        "\"\"\"\n",
        "display(HTML(html_code))\n"
      ],
      "metadata": {
        "colab": {
          "base_uri": "https://localhost:8080/",
          "height": 79
        },
        "id": "4ZRb-6Yyt-o-",
        "outputId": "0861fe58-01c9-408b-92ed-2f192cdf3477"
      },
      "execution_count": null,
      "outputs": [
        {
          "output_type": "display_data",
          "data": {
            "text/plain": [
              "<IPython.core.display.HTML object>"
            ],
            "text/html": [
              "\n",
              "<!DOCTYPE html>\n",
              "<html>\n",
              "  <body>\n",
              "    <h3>HTML Button</h3>\n",
              "    <button type=\"button\" onclick=\"alert('Hello! This is a button.')\">Click Me!</button>\n",
              "  </body>\n",
              "</html>\n"
            ]
          },
          "metadata": {}
        }
      ]
    }
  ]
}